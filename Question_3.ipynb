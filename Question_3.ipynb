{
  "nbformat": 4,
  "nbformat_minor": 0,
  "metadata": {
    "colab": {
      "provenance": []
    },
    "kernelspec": {
      "name": "python3",
      "display_name": "Python 3"
    },
    "language_info": {
      "name": "python"
    }
  },
  "cells": [
    {
      "cell_type": "code",
      "execution_count": null,
      "metadata": {
        "colab": {
          "base_uri": "https://localhost:8080/"
        },
        "id": "2l9KzLE6kY6A",
        "outputId": "a1c795a4-68bc-4c9c-fa94-5f3bdaa590d3"
      },
      "outputs": [
        {
          "output_type": "stream",
          "name": "stdout",
          "text": [
            "Downloading http://yann.lecun.com/exdb/mnist/train-images-idx3-ubyte.gz\n",
            "Downloading http://yann.lecun.com/exdb/mnist/train-images-idx3-ubyte.gz to ./data/MNIST/raw/train-images-idx3-ubyte.gz\n"
          ]
        },
        {
          "output_type": "stream",
          "name": "stderr",
          "text": [
            "100%|██████████| 9912422/9912422 [00:00<00:00, 159651752.95it/s]"
          ]
        },
        {
          "output_type": "stream",
          "name": "stdout",
          "text": [
            "Extracting ./data/MNIST/raw/train-images-idx3-ubyte.gz to ./data/MNIST/raw\n"
          ]
        },
        {
          "output_type": "stream",
          "name": "stderr",
          "text": [
            "\n"
          ]
        },
        {
          "output_type": "stream",
          "name": "stdout",
          "text": [
            "\n",
            "Downloading http://yann.lecun.com/exdb/mnist/train-labels-idx1-ubyte.gz\n",
            "Downloading http://yann.lecun.com/exdb/mnist/train-labels-idx1-ubyte.gz to ./data/MNIST/raw/train-labels-idx1-ubyte.gz\n"
          ]
        },
        {
          "output_type": "stream",
          "name": "stderr",
          "text": [
            "100%|██████████| 28881/28881 [00:00<00:00, 35419793.52it/s]\n"
          ]
        },
        {
          "output_type": "stream",
          "name": "stdout",
          "text": [
            "Extracting ./data/MNIST/raw/train-labels-idx1-ubyte.gz to ./data/MNIST/raw\n",
            "\n",
            "Downloading http://yann.lecun.com/exdb/mnist/t10k-images-idx3-ubyte.gz\n",
            "Downloading http://yann.lecun.com/exdb/mnist/t10k-images-idx3-ubyte.gz to ./data/MNIST/raw/t10k-images-idx3-ubyte.gz\n"
          ]
        },
        {
          "output_type": "stream",
          "name": "stderr",
          "text": [
            "100%|██████████| 1648877/1648877 [00:00<00:00, 51774567.45it/s]"
          ]
        },
        {
          "output_type": "stream",
          "name": "stdout",
          "text": [
            "Extracting ./data/MNIST/raw/t10k-images-idx3-ubyte.gz to ./data/MNIST/raw\n"
          ]
        },
        {
          "output_type": "stream",
          "name": "stderr",
          "text": [
            "\n"
          ]
        },
        {
          "output_type": "stream",
          "name": "stdout",
          "text": [
            "\n",
            "Downloading http://yann.lecun.com/exdb/mnist/t10k-labels-idx1-ubyte.gz\n",
            "Downloading http://yann.lecun.com/exdb/mnist/t10k-labels-idx1-ubyte.gz to ./data/MNIST/raw/t10k-labels-idx1-ubyte.gz\n"
          ]
        },
        {
          "output_type": "stream",
          "name": "stderr",
          "text": [
            "100%|██████████| 4542/4542 [00:00<00:00, 14710833.03it/s]\n"
          ]
        },
        {
          "output_type": "stream",
          "name": "stdout",
          "text": [
            "Extracting ./data/MNIST/raw/t10k-labels-idx1-ubyte.gz to ./data/MNIST/raw\n",
            "\n",
            "Epoch 1, Batch 100, Loss: 2.207\n",
            "Epoch 1, Batch 200, Loss: 1.879\n",
            "Epoch 1, Batch 300, Loss: 1.388\n",
            "Epoch 1, Batch 400, Loss: 0.967\n",
            "Epoch 1, Batch 500, Loss: 0.751\n",
            "Epoch 1, Batch 600, Loss: 0.605\n",
            "Epoch 1, Batch 700, Loss: 0.550\n",
            "Epoch 1, Batch 800, Loss: 0.497\n",
            "Epoch 1, Batch 900, Loss: 0.460\n",
            "Epoch 2, Batch 100, Loss: 0.436\n",
            "Epoch 2, Batch 200, Loss: 0.400\n",
            "Epoch 2, Batch 300, Loss: 0.407\n",
            "Epoch 2, Batch 400, Loss: 0.383\n",
            "Epoch 2, Batch 500, Loss: 0.357\n",
            "Epoch 2, Batch 600, Loss: 0.393\n",
            "Epoch 2, Batch 700, Loss: 0.339\n",
            "Epoch 2, Batch 800, Loss: 0.346\n",
            "Epoch 2, Batch 900, Loss: 0.377\n",
            "Epoch 3, Batch 100, Loss: 0.349\n",
            "Epoch 3, Batch 200, Loss: 0.322\n",
            "Epoch 3, Batch 300, Loss: 0.340\n",
            "Epoch 3, Batch 400, Loss: 0.319\n",
            "Epoch 3, Batch 500, Loss: 0.322\n",
            "Epoch 3, Batch 600, Loss: 0.312\n",
            "Epoch 3, Batch 700, Loss: 0.325\n",
            "Epoch 3, Batch 800, Loss: 0.307\n",
            "Epoch 3, Batch 900, Loss: 0.290\n",
            "Epoch 4, Batch 100, Loss: 0.307\n",
            "Epoch 4, Batch 200, Loss: 0.284\n",
            "Epoch 4, Batch 300, Loss: 0.289\n",
            "Epoch 4, Batch 400, Loss: 0.280\n",
            "Epoch 4, Batch 500, Loss: 0.284\n",
            "Epoch 4, Batch 600, Loss: 0.281\n",
            "Epoch 4, Batch 700, Loss: 0.303\n",
            "Epoch 4, Batch 800, Loss: 0.283\n",
            "Epoch 4, Batch 900, Loss: 0.291\n",
            "Epoch 5, Batch 100, Loss: 0.270\n",
            "Epoch 5, Batch 200, Loss: 0.276\n",
            "Epoch 5, Batch 300, Loss: 0.277\n",
            "Epoch 5, Batch 400, Loss: 0.257\n",
            "Epoch 5, Batch 500, Loss: 0.251\n",
            "Epoch 5, Batch 600, Loss: 0.261\n",
            "Epoch 5, Batch 700, Loss: 0.279\n",
            "Epoch 5, Batch 800, Loss: 0.249\n",
            "Epoch 5, Batch 900, Loss: 0.256\n",
            "Finished Training\n",
            "Accuracy on the test set: 92.77%\n"
          ]
        }
      ],
      "source": [
        "import torch\n",
        "import torch.nn as nn\n",
        "import torch.optim as optim\n",
        "import torchvision.transforms as transforms\n",
        "from torch.utils.data import DataLoader\n",
        "from torchvision.datasets import MNIST\n",
        "\n",
        "# Preprocessing: Define transformations for input images\n",
        "transform = transforms.Compose([\n",
        "    transforms.ToTensor(),  # Convert PIL image to tensor\n",
        "    transforms.Normalize((0.5,), (0.5,))  # Normalize images with mean and standard deviation\n",
        "])\n",
        "\n",
        "# Load the MNIST dataset\n",
        "trainset = MNIST(root='./data', train=True, download=True, transform=transform)\n",
        "testset = MNIST(root='./data', train=False, download=True, transform=transform)\n",
        "\n",
        "# Define the data loaders\n",
        "trainloader = DataLoader(trainset, batch_size=64, shuffle=True)\n",
        "testloader = DataLoader(testset, batch_size=64, shuffle=False)\n",
        "\n",
        "# Define the Feedforward Neural Network (FNN) architecture\n",
        "class FNN(nn.Module):\n",
        "    def __init__(self):\n",
        "        super(FNN, self).__init__()\n",
        "        self.fc1 = nn.Linear(28*28, 128)  # Input layer: 28x28 pixels flattened to 784 neurons\n",
        "        self.fc2 = nn.Linear(128, 64)     # Hidden layer 1\n",
        "        self.fc3 = nn.Linear(64, 10)      # Output layer: 10 neurons for 10 classes (0-9 digits)\n",
        "\n",
        "    def forward(self, x):\n",
        "        x = x.view(-1, 28*28)  # Flatten the input images\n",
        "        x = torch.relu(self.fc1(x))  # Apply ReLU activation to the first hidden layer\n",
        "        x = torch.relu(self.fc2(x))  # Apply ReLU activation to the second hidden layer\n",
        "        x = self.fc3(x)  # Output layer, no activation function\n",
        "        return x\n",
        "\n",
        "# Instantiate the FNN model\n",
        "model = FNN()\n",
        "\n",
        "# Define loss function and optimizer\n",
        "criterion = nn.CrossEntropyLoss()\n",
        "optimizer = optim.SGD(model.parameters(), lr=0.01)\n",
        "\n",
        "# Training loop\n",
        "for epoch in range(5):  # Adjust the number of epochs as needed\n",
        "    running_loss = 0.0\n",
        "    for i, data in enumerate(trainloader, 0):\n",
        "        inputs, labels = data\n",
        "        optimizer.zero_grad()\n",
        "\n",
        "        outputs = model(inputs)\n",
        "        loss = criterion(outputs, labels)\n",
        "        loss.backward()\n",
        "        optimizer.step()\n",
        "\n",
        "        running_loss += loss.item()\n",
        "\n",
        "        if i % 100 == 99:  # Print every 100 mini-batches\n",
        "            print(f\"Epoch {epoch + 1}, Batch {i + 1}, Loss: {running_loss / 100:.3f}\")\n",
        "            running_loss = 0.0\n",
        "\n",
        "print(\"Finished Training\")\n",
        "\n",
        "# Evaluation\n",
        "correct = 0\n",
        "total = 0\n",
        "with torch.no_grad():\n",
        "    for data in testloader:\n",
        "        images, labels = data\n",
        "        outputs = model(images)\n",
        "        _, predicted = torch.max(outputs.data, 1)\n",
        "        total += labels.size(0)\n",
        "        correct += (predicted == labels).sum().item()\n",
        "\n",
        "print(f\"Accuracy on the test set: {100 * correct / total:.2f}%\")\n",
        "\n"
      ]
    },
    {
      "cell_type": "code",
      "source": [],
      "metadata": {
        "id": "x0LvmTr2ktaC"
      },
      "execution_count": null,
      "outputs": []
    }
  ]
}